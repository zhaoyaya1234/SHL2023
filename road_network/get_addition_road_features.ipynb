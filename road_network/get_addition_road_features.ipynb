{
 "cells": [
  {
   "cell_type": "code",
   "execution_count": 1,
   "metadata": {
    "collapsed": false,
    "pycharm": {
     "name": "#%%\n"
    }
   },
   "outputs": [
    {
     "name": "stderr",
     "output_type": "stream",
     "text": [
      "/home/jnli/.local/lib/python3.7/site-packages/geopandas/_compat.py:115: UserWarning: The Shapely GEOS version (3.11.1-CAPI-1.17.1) is incompatible with the GEOS version PyGEOS was compiled with (3.10.4-CAPI-1.16.2). Conversions between both will be slow.\n",
      "  shapely_geos_version, geos_capi_version_string\n"
     ]
    }
   ],
   "source": [
    "import re\n",
    "import numpy as np\n",
    "import pandas as pd\n",
    "import os\n",
    "from shl.prepare import normalize_epoch_time, normalize_lat_long, calculate_window, calculate_shift, fillna_agg_by_label\n",
    "from sklearn.feature_extraction.text import TfidfVectorizer\n",
    "from sklearn.neighbors import DistanceMetric\n",
    "from sklearn.metrics.pairwise import haversine_distances\n",
    "from sklearn.metrics import pairwise_distances_argmin_min\n",
    "from shapely.geometry import Polygon, LineString, Point, MultiLineString\n",
    "from tqdm import tqdm\n",
    "import geopandas as gpd\n",
    "import pickle\n",
    "import branca.colormap as cm"
   ]
  },
  {
   "cell_type": "code",
   "execution_count": 2,
   "metadata": {},
   "outputs": [],
   "source": [
    "# 1 点特征\n",
    "with open('./additional_data/bus_stops.pickle', 'rb') as f:\n",
    "    bus_stops = pickle.load(f)\n",
    "\n",
    "feature_points = {\n",
    "    'London': [\n",
    "        [51.509865, -0.118092]\n",
    "    ],\n",
    "    'Brighton': [\n",
    "        [50.827778, -0.152778]\n",
    "    ],\n",
    "    'parks': [\n",
    "        # Hollingbury Golf Course\n",
    "        [50.85423803467499, -0.12791258170001926],\n",
    "        # St Ann’s Well Gardens\n",
    "        [50.829876823789675, -0.15525600010959892],\n",
    "        # Preston Park\n",
    "        [50.839694335541274, -0.1462660790420134],\n",
    "        # Waterwall conservation area\n",
    "        [50.8659, -0.1750],\n",
    "        # Withdean park\n",
    "        [50.8546, -0.1497],\n",
    "        # Stanmer park\n",
    "        [50.8678, -0.0968],\n",
    "        # Upper Lodge Wood\n",
    "        [50.8751, -0.1177],\n",
    "        # Pudding bag\n",
    "        [50.8710, -0.1161],\n",
    "        # Great Wood\n",
    "        [50.8653, -0.1036],\n",
    "        # Grubbings\n",
    "        [50.8729, -0.0971],\n",
    "        # Milbark wood\n",
    "        [50.8783, -0.0982],\n",
    "        # High park wood\n",
    "        [50.8849, -0.1078],\n",
    "        # Green broom\n",
    "        [50.8833, -0.1107],\n",
    "        # Moon's plantations\n",
    "        [50.8774, -0.0840],\n",
    "        # Friston forest\n",
    "        [50.7783, 0.1894],\n",
    "        # Malthouse wood\n",
    "        [51.0042, -0.2044],\n",
    "        # Bedgebury forest\n",
    "        [51.0694, 0.4649],\n",
    "        # Swinley forest\n",
    "        [51.3726, -0.7292],\n",
    "        # Crowthore wood\n",
    "        [51.3808, -0.7598],\n",
    "        # Queen Elizabeth Country Parh\n",
    "        [50.9651, -0.9695],\n",
    "        # Hurth wood\n",
    "        [51.1854, -0.4278],\n",
    "        # Winterfold wood\n",
    "        [51.1764, -0.4564],\n",
    "        # Queen's park\n",
    "        [50.8249, -0.1248],\n",
    "    ],\n",
    "    'bus_stops': bus_stops\n",
    "}\n",
    "\n",
    "def calculate_minimal_distance(data: pd.DataFrame, points):\n",
    "    from sklearn.neighbors import BallTree\n",
    "    tree = BallTree(np.array(points), leaf_size=15)\n",
    "    distances, indices = tree.query(data[['latitude','longitude']], k=1)\n",
    "    return distances\n",
    "    # return pairwise_distances_argmin_min(data[['Latitude','Longitude']], np.array(points))\n",
    "\n",
    "def create_point_distance_features(data: pd.DataFrame):\n",
    "    # features = data[['epoch_time_id']]\n",
    "    features = data\n",
    "    for name, points in feature_points.items():\n",
    "        if len(points) > 0:\n",
    "            if type(points[0]) == list: \n",
    "                features[f'distance_{name}'] = calculate_minimal_distance(data, points)\n",
    "    return features\n",
    "\n",
    "\n",
    "# 2 获得离地铁，火车的最近距离\n",
    "railways = gpd.read_file('./additional_data/railways.json')\n",
    "# display(railways)\n",
    "subway = gpd.read_file('./additional_data/subway.json')\n",
    "# display(subway)\n",
    "from shapely.ops import unary_union, cascaded_union, linemerge\n",
    "\n",
    "feature_lines = {\n",
    "    # 'bus_routes': gpd.read_file('../additional_data/bus_routes.json'),\n",
    "    'bus_routes': unary_union(gpd.read_file('./additional_data/bus_routes.json').loc[:, 'geometry'].to_list()),\n",
    "    'subway': gpd.read_file('./additional_data/subway.json'),\n",
    "    'railways': gpd.read_file('./additional_data/railways.json'),\n",
    "}\n",
    "def calculate_min_distance_to_lines(point: Point, lines: gpd.GeoDataFrame):\n",
    "    # return min(map(point.distance, lines.loc[:, 'geometry']))\n",
    "    if isinstance(lines, gpd.GeoDataFrame):\n",
    "        lines = MultiLineString(lines.loc[:, 'geometry'].to_list())\n",
    "    return point.distance(lines)\n",
    "\n",
    "def create_distance_to_lines_features(data: pd.DataFrame):\n",
    "    features = data\n",
    "    for name, lines in feature_lines.items():\n",
    "        distances = []\n",
    "        for _, row in tqdm(data.iterrows(), total=data.shape[0]):\n",
    "            distances.append(calculate_min_distance_to_lines(Point(row['longitude'], row['latitude']), lines))\n",
    "        features[f'distance_{name}'] = distances\n",
    "\n",
    "    return pd.DataFrame(features)"
   ]
  },
  {
   "cell_type": "code",
   "execution_count": 3,
   "metadata": {
    "collapsed": false,
    "jupyter": {
     "outputs_hidden": false
    },
    "pycharm": {
     "name": "#%%\n"
    }
   },
   "outputs": [],
   "source": [
    "settings = {\n",
    "    'fill_limit': 30,\n",
    "    'window_sizes': [60, 300, 600],\n",
    "    'window_center': True,\n",
    "    # 'window_functions': ['mean', 'std'],\n",
    "    'columns': None, #['distance_London', 'distance_Brighton', 'distance_parks', 'bus_stops'],\n",
    "    'functions': ['mean', 'std', 'median'],\n",
    "}\n",
    "shift_settings = {\n",
    "    'periods': [60, 300, 600],\n",
    "    'columns_patterns': ['window_'],\n",
    "    'fill_limit': 30,\n",
    "}"
   ]
  },
  {
   "attachments": {},
   "cell_type": "markdown",
   "metadata": {},
   "source": [
    "# 获得增加的路网特征"
   ]
  },
  {
   "cell_type": "code",
   "execution_count": 6,
   "metadata": {},
   "outputs": [
    {
     "name": "stdout",
     "output_type": "stream",
     "text": [
      "data load well\n"
     ]
    },
    {
     "name": "stderr",
     "output_type": "stream",
     "text": [
      "100%|██████████| 10/10 [00:00<00:00, 167.83it/s]\n",
      "100%|██████████| 10/10 [00:00<00:00, 214.07it/s]\n",
      "100%|██████████| 10/10 [00:00<00:00, 256.53it/s]\n"
     ]
    },
    {
     "name": "stdout",
     "output_type": "stream",
     "text": [
      "train_data save well\n"
     ]
    },
    {
     "name": "stderr",
     "output_type": "stream",
     "text": [
      "100%|██████████| 10/10 [00:00<00:00, 115.72it/s]\n",
      "100%|██████████| 10/10 [00:00<00:00, 168.92it/s]\n",
      "100%|██████████| 10/10 [00:00<00:00, 416.23it/s]"
     ]
    },
    {
     "name": "stdout",
     "output_type": "stream",
     "text": [
      "valid_data save well\n"
     ]
    },
    {
     "name": "stderr",
     "output_type": "stream",
     "text": [
      "\n"
     ]
    }
   ],
   "source": [
    "data_path_train_1 =  '/home/jnli/SHL_2023/SHL2023/data2023/train/Bag'\n",
    "data_path_valid_2 = '/home/jnli/SHL_2023/SHL2023/data2023/validate/Hand'\n",
    "data_processed_train_1 = pd.read_csv('{}/get_road_feature.csv'.format(data_path_train_1))\n",
    "data_processed_validate_2 = pd.read_csv('{}/get_road_feature.csv'.format(data_path_valid_2))\n",
    "print('data load well')\n",
    "data_processed_train_1 = create_distance_to_lines_features(create_point_distance_features(data_processed_train_1))\n",
    "data_processed_train_1.to_csv('{}/get_road_feature_1.csv'.format(data_path_train_1), index=False)\n",
    "print('train_data save well')\n",
    "data_processed_validate_2 = create_distance_to_lines_features(create_point_distance_features(data_processed_validate_2 ))\n",
    "data_processed_validate_2.to_csv('{}/get_road_feature_1.csv'.format(data_path_valid_2), index=False)\n",
    "print('valid_data save well')"
   ]
  },
  {
   "attachments": {},
   "cell_type": "markdown",
   "metadata": {},
   "source": [
    "# 获得窗口特征\n",
    "data = \n",
    "columns = \n",
    "data = calculate_shift(calculate_window(data[columns], **settings), **shift_settings)"
   ]
  },
  {
   "cell_type": "code",
   "execution_count": null,
   "metadata": {},
   "outputs": [],
   "source": []
  },
  {
   "cell_type": "code",
   "execution_count": null,
   "metadata": {},
   "outputs": [],
   "source": []
  },
  {
   "cell_type": "code",
   "execution_count": null,
   "metadata": {
    "collapsed": false,
    "pycharm": {
     "name": "#%%\n"
    }
   },
   "outputs": [],
   "source": []
  }
 ],
 "metadata": {
  "kernelspec": {
   "display_name": "Python 3",
   "language": "python",
   "name": "python3"
  },
  "language_info": {
   "codemirror_mode": {
    "name": "ipython",
    "version": 3
   },
   "file_extension": ".py",
   "mimetype": "text/x-python",
   "name": "python",
   "nbconvert_exporter": "python",
   "pygments_lexer": "ipython3",
   "version": "3.7.16"
  }
 },
 "nbformat": 4,
 "nbformat_minor": 4
}
