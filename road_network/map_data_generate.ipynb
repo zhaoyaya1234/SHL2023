{
 "cells": [
  {
   "attachments": {},
   "cell_type": "markdown",
   "metadata": {},
   "source": [
    "# 1 准备图数据"
   ]
  },
  {
   "cell_type": "markdown",
   "metadata": {},
   "source": [
    "import pandas as pd\n",
    "import math                                                                     \n",
    "from collections import defaultdict\n",
    "from collections import Counter\n",
    "import numpy as np\n",
    "from tqdm import tqdm\n",
    "import random\n",
    "import networkx as nx\n",
    "import time"
   ]
  },
  {
   "cell_type": "markdown",
   "metadata": {},
   "source": [
    "road_data_path = '/home/jnli/SHL_2023/SHL2023/road_network/data'\n",
    "gdf_roads_railway  = nx.read_shp( '{}/England_railwary.shp'.format(road_data_path))\n",
    "print('rail load well')"
   ]
  },
  {
   "cell_type": "markdown",
   "metadata": {},
   "source": [
    "gdf_roads_road  = nx.read_shp( '{}/England_road.shp'.format(road_data_path))\n",
    "print('road load well')"
   ]
  },
  {
   "cell_type": "markdown",
   "metadata": {},
   "source": [
    "# 看图里面的信息\n",
    "len(gdf_roads_railway.edges())\n",
    "for n, data in gdf_roads_railway.nodes(data=True):\n",
    "    print(n,data)\n",
    "    break\n",
    "# # 'key': 标识同一个起点和终点之间不同的路段，即在有向图中，可能存在多个边连接同一对节点，key用于区分它们。\n",
    "for u, v, data in gdf_roads_railway.edges(data=True):\n",
    "    # print(data['Wkt'][11:][1:-1].split(','))\n",
    "    print(u,v,data)\n",
    "    break"
   ]
  },
  {
   "cell_type": "markdown",
   "metadata": {},
   "source": [
    "def get_feature(g):\n",
    "    for u, v, data in g.edges(data=True):\n",
    "        data_lng_lat = data['Wkt'][11:][1:-1].split(',')\n",
    "        single_lat_lng = []\n",
    "        for k in data_lng_lat:\n",
    "            k = k.strip()\n",
    "            single_lat_lng.append((float(k.split(' ')[1]),float(k.split(' ')[0])))\n",
    "        lat_lng.append(single_lat_lng)\n",
    "\n",
    "        road_code.append(data['code'])\n",
    "    print('feature load well')\n",
    "\n",
    "lat_lng = []\n",
    "road_code = []\n",
    "get_feature(gdf_roads_railway)\n",
    "get_feature(gdf_roads_road)"
   ]
  },
  {
   "cell_type": "markdown",
   "metadata": {},
   "source": [
    "# 构建的是有向图\n",
    "def create_graph(nodes, node_attrs={}, is_directed=True):\n",
    "    g = nx.DiGraph()\n",
    "    # add nodes\n",
    "    for node in nodes:\n",
    "        g.add_node(node, **node_attrs.get(node, node_attrs))\n",
    "    return g\n",
    "# example usage\n",
    "nodes = [ i for i in range(len(lat_lng))]\n",
    "node_attrs = {s_node:{'eid': i+1,'zone_area':((np.min([sv[1] for sv in lat_lng[i]]),np.min([ sv[0] for sv in lat_lng[i]]),np.max([ sv[1] for sv in lat_lng[i]]),np.max([ sv[0] for sv in lat_lng[i]]))),'coords':lat_lng[i],'code':road_code[i]} for i,s_node in enumerate(nodes)}\n",
    "edge_g = create_graph(nodes, node_attrs=node_attrs)"
   ]
  },
  {
   "cell_type": "markdown",
   "metadata": {},
   "source": [
    "nx.write_gpickle(edge_g, '{}/graph_shl.gpickle'.format(road_data_path))\n",
    "edge_g = nx.read_gpickle('{}/graph_shl.gpickle'.format(road_data_path))"
   ]
  },
  {
   "cell_type": "markdown",
   "metadata": {},
   "source": [
    "roadid2code = {}\n",
    "for i in range(len(road_code)):\n",
    "    roadid2code[i+1] = road_code[i]\n",
    "np.save('{}/roadid2code.npy'.format(road_data_path),roadid2code) # 注意带上后缀名\n",
    "# Load\n",
    "print('save well')\n",
    "roadid2code = np.load('{}/roadid2code.npy'.format(road_data_path),allow_pickle=True).item()"
   ]
  },
  {
   "attachments": {},
   "cell_type": "markdown",
   "metadata": {},
   "source": [
    "# 2 生成距离差"
   ]
  },
  {
   "cell_type": "code",
   "execution_count": 3,
   "metadata": {},
   "outputs": [
    {
     "name": "stderr",
     "output_type": "stream",
     "text": [
      "/home/jnli/.conda/envs/RNTrajRec/lib/python3.7/site-packages/tqdm/auto.py:22: TqdmWarning: IProgress not found. Please update jupyter and ipywidgets. See https://ipywidgets.readthedocs.io/en/stable/user_install.html\n",
      "  from .autonotebook import tqdm as notebook_tqdm\n"
     ]
    }
   ],
   "source": [
    "import time\n",
    "from tqdm import tqdm\n",
    "import pandas as pd\n",
    "import numpy as np\n",
    "import networkx as nx\n",
    "import math\n",
    "from collections import Counter\n",
    "from pre_processing.road_network import load_rn_shp\n",
    "from pre_processing.map import get_candi_shl"
   ]
  },
  {
   "cell_type": "markdown",
   "metadata": {},
   "source": [
    "road_data_path = '/home/jnli/SHL_2023/SHL2023/road_network/data'\n",
    "edge_g = nx.read_gpickle('{}/graph_shl.gpickle'.format(road_data_path))\n",
    "roadid2code = np.load('{}/roadid2code.npy'.format(road_data_path),allow_pickle=True).item()\n",
    "# 生成需要的地图\n",
    "rn = load_rn_shp(edge_g,is_directed=True)# 加载路网数据"
   ]
  },
  {
   "cell_type": "markdown",
   "metadata": {},
   "source": [
    "print('-----------------------1 get validataion  Hand---------------------')\n",
    "data_path = '/home/jnli/SHL_2023/SHL2023/data2023/validate/Hand'\n",
    "feature_data_path = '{}/data_processed_validate_1.csv'.format(data_path)\n",
    "save_path = data_path# 数据路径\n",
    "df_point = pd.read_csv(feature_data_path)\n",
    "get_candi_shl(df_point,rn,roadid2code,save_path,search_dis=50)\n",
    "print('map data get well')\n",
    "\n",
    "# print('-----------------------1 get validataion  Hips---------------------')\n",
    "# data_path = '/home/jnli/SHL_2023/SHL2023/data2023/validate/Hips'\n",
    "# feature_data_path = '{}/data_processed_validate_1.csv'.format(data_path)\n",
    "# save_path = data_path# 数据路径\n",
    "# df_point = pd.read_csv(feature_data_path)\n",
    "# get_candi_shl(df_point,rn,roadid2code,save_path,search_dis=50)\n",
    "# print('map data get well')\n",
    "\n",
    "# print('-----------------------1 get validataion  Torso---------------------')\n",
    "# data_path = '/home/jnli/SHL_2023/SHL2023/data2023/validate/Torso'\n",
    "# feature_data_path = '{}/data_processed_validate_1.csv'.format(data_path)\n",
    "# save_path = data_path# 数据路径\n",
    "# df_point = pd.read_csv(feature_data_path)\n",
    "# get_candi_shl(df_point,rn,roadid2code,save_path,search_dis=50)\n",
    "# print('map data get well')\n",
    "\n",
    "# print('-----------------------1 get validataion  Hand---------------------')\n",
    "# data_path = '/home/jnli/SHL_2023/SHL2023/data2023/validate/Hand'\n",
    "# feature_data_path = '{}/data_processed_validate_1.csv'.format(data_path)\n",
    "# save_path = data_path# 数据路径\n",
    "# df_point = pd.read_csv(feature_data_path)\n",
    "# get_candi_shl(df_point,rn,roadid2code,save_path,search_dis=50)\n",
    "# print('map data get well')"
   ]
  },
  {
   "cell_type": "markdown",
   "metadata": {},
   "source": [
    "print('-----------------------2  get train  Bag---------------------')\n",
    "data_path = '/home/jnli/SHL_2023/SHL2023/data2023/train/Bag'\n",
    "feature_data_path = '{}/data_processed_train_1.csv'.format(data_path)\n",
    "save_path = data_path# 数据路径\n",
    "df_point = pd.read_csv(feature_data_path)\n",
    "get_candi_shl(df_point,rn,roadid2code,save_path,search_dis=50)\n",
    "print('map data get well')\n",
    "\n",
    "# print('-----------------------2  get train  Hand---------------------')\n",
    "# data_path = '/home/jnli/SHL_2023/SHL2023/data2023/train/Hand'\n",
    "# feature_data_path = '{}/data_processed_train_1.csv'.format(data_path)\n",
    "# save_path = data_path# 数据路径\n",
    "# df_point = pd.read_csv(feature_data_path)\n",
    "# get_candi_shl(df_point,rn,roadid2code,save_path,search_dis=50)\n",
    "# print('map data get well')\n",
    "\n",
    "# print('-----------------------2  get train  Hips---------------------')\n",
    "# data_path = '/home/jnli/SHL_2023/SHL2023/data2023/train/Hips'\n",
    "# feature_data_path = '{}/data_processed_train_1.csv'.format(data_path)\n",
    "# save_path = data_path# 数据路径\n",
    "# df_point = pd.read_csv(feature_data_path)\n",
    "# get_candi_shl(df_point,rn,roadid2code,save_path,search_dis=50)\n",
    "# print('map data get well')\n",
    "# print('-----------------------2  get train  Torso---------------------')\n",
    "# data_path = '/home/jnli/SHL_2023/SHL2023/data2023/train/Torso'\n",
    "# feature_data_path = '{}/data_processed_train_1.csv'.format(data_path)\n",
    "# save_path = data_path# 数据路径\n",
    "# df_point = pd.read_csv(feature_data_path)\n",
    "# get_candi_shl(df_point,rn,roadid2code,save_path,search_dis=50)\n",
    "# print('map data get well')"
   ]
  },
  {
   "cell_type": "markdown",
   "metadata": {},
   "source": [
    "# print('-----------------------3  get test  ---------------------')\n",
    "# data_path = '/home/jnli/SHL_2023/SHL2023/data2023/test'\n",
    "# feature_data_path = '{}/data_processed_test_1.csv'.format(data_path)\n",
    "# save_path = data_path# 数据路径\n",
    "# df_point = pd.read_csv(feature_data_path)\n",
    "# get_candi_shl(df_point,rn,roadid2code,save_path,search_dis=50)\n",
    "# print('map data get well')"
   ]
  },
  {
   "cell_type": "code",
   "execution_count": null,
   "metadata": {},
   "outputs": [],
   "source": []
  }
 ],
 "metadata": {
  "kernelspec": {
   "display_name": "RNTrajRec",
   "language": "python",
   "name": "python3"
  },
  "language_info": {
   "codemirror_mode": {
    "name": "ipython",
    "version": 3
   },
   "file_extension": ".py",
   "mimetype": "text/x-python",
   "name": "python",
   "nbconvert_exporter": "python",
   "pygments_lexer": "ipython3",
   "version": "3.7.12"
  },
  "orig_nbformat": 4
 },
 "nbformat": 4,
 "nbformat_minor": 2
}
